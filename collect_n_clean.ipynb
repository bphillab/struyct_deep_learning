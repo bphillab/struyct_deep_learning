{
 "cells": [
  {
   "cell_type": "code",
   "execution_count": 1,
   "metadata": {},
   "outputs": [],
   "source": [
    "import main\n"
   ]
  },
  {
   "cell_type": "code",
   "execution_count": 2,
   "metadata": {
    "pycharm": {
     "name": "#%%\n"
    }
   },
   "outputs": [],
   "source": [
    "games_data = main.read_games_data()\n",
    "conf_data = main.read_teams_data()\n"
   ]
  },
  {
   "cell_type": "code",
   "execution_count": 3,
   "metadata": {
    "pycharm": {
     "name": "#%%\n"
    }
   },
   "outputs": [
    {
     "data": {
      "text/plain": "        game_date          team1  score1                      team2  score2\n0      2015-11-13         Hawaii      87                Montana St.      76\n1      2015-11-13  Eastern Mich.      70                    Vermont      50\n2      2015-11-13       Columbia     107                       Kean      62\n3      2015-11-13     La.-Monroe      88                    McMurry      43\n4      2015-11-13           Yale      70                  Fairfield      57\n...           ...            ...     ...                        ...     ...\n23488  2019-03-21        Hampton      81  St. Francis (B&#039;klyn)      72\n23489  2019-03-21     La.-Monroe      87                 Kent State      77\n23490  2019-03-21  CSU Fullerton      58            CSU Bakersfield      66\n23491  2019-03-22  Southern Utah      80                      Drake      73\n23492  2019-03-22      Creighton      79                    Memphis      67\n\n[23493 rows x 5 columns]",
      "text/html": "<div>\n<style scoped>\n    .dataframe tbody tr th:only-of-type {\n        vertical-align: middle;\n    }\n\n    .dataframe tbody tr th {\n        vertical-align: top;\n    }\n\n    .dataframe thead th {\n        text-align: right;\n    }\n</style>\n<table border=\"1\" class=\"dataframe\">\n  <thead>\n    <tr style=\"text-align: right;\">\n      <th></th>\n      <th>game_date</th>\n      <th>team1</th>\n      <th>score1</th>\n      <th>team2</th>\n      <th>score2</th>\n    </tr>\n  </thead>\n  <tbody>\n    <tr>\n      <th>0</th>\n      <td>2015-11-13</td>\n      <td>Hawaii</td>\n      <td>87</td>\n      <td>Montana St.</td>\n      <td>76</td>\n    </tr>\n    <tr>\n      <th>1</th>\n      <td>2015-11-13</td>\n      <td>Eastern Mich.</td>\n      <td>70</td>\n      <td>Vermont</td>\n      <td>50</td>\n    </tr>\n    <tr>\n      <th>2</th>\n      <td>2015-11-13</td>\n      <td>Columbia</td>\n      <td>107</td>\n      <td>Kean</td>\n      <td>62</td>\n    </tr>\n    <tr>\n      <th>3</th>\n      <td>2015-11-13</td>\n      <td>La.-Monroe</td>\n      <td>88</td>\n      <td>McMurry</td>\n      <td>43</td>\n    </tr>\n    <tr>\n      <th>4</th>\n      <td>2015-11-13</td>\n      <td>Yale</td>\n      <td>70</td>\n      <td>Fairfield</td>\n      <td>57</td>\n    </tr>\n    <tr>\n      <th>...</th>\n      <td>...</td>\n      <td>...</td>\n      <td>...</td>\n      <td>...</td>\n      <td>...</td>\n    </tr>\n    <tr>\n      <th>23488</th>\n      <td>2019-03-21</td>\n      <td>Hampton</td>\n      <td>81</td>\n      <td>St. Francis (B&amp;#039;klyn)</td>\n      <td>72</td>\n    </tr>\n    <tr>\n      <th>23489</th>\n      <td>2019-03-21</td>\n      <td>La.-Monroe</td>\n      <td>87</td>\n      <td>Kent State</td>\n      <td>77</td>\n    </tr>\n    <tr>\n      <th>23490</th>\n      <td>2019-03-21</td>\n      <td>CSU Fullerton</td>\n      <td>58</td>\n      <td>CSU Bakersfield</td>\n      <td>66</td>\n    </tr>\n    <tr>\n      <th>23491</th>\n      <td>2019-03-22</td>\n      <td>Southern Utah</td>\n      <td>80</td>\n      <td>Drake</td>\n      <td>73</td>\n    </tr>\n    <tr>\n      <th>23492</th>\n      <td>2019-03-22</td>\n      <td>Creighton</td>\n      <td>79</td>\n      <td>Memphis</td>\n      <td>67</td>\n    </tr>\n  </tbody>\n</table>\n<p>23493 rows × 5 columns</p>\n</div>"
     },
     "execution_count": 3,
     "metadata": {},
     "output_type": "execute_result"
    }
   ],
   "source": [
    "games_data"
   ]
  },
  {
   "cell_type": "code",
   "execution_count": 4,
   "outputs": [
    {
     "data": {
      "text/plain": "                 conf                   team\n0        America East                Vermont\n1        America East            Stony Brook\n2        America East                   UMBC\n3        America East               Hartford\n4        America East                 Albany\n..                ...                    ...\n348  Western Athletic     California Baptist\n349  Western Athletic  Cal State Bakersfield\n350  Western Athletic                Seattle\n351  Western Athletic                   UMKC\n352  Western Athletic          Chicago State\n\n[353 rows x 2 columns]",
      "text/html": "<div>\n<style scoped>\n    .dataframe tbody tr th:only-of-type {\n        vertical-align: middle;\n    }\n\n    .dataframe tbody tr th {\n        vertical-align: top;\n    }\n\n    .dataframe thead th {\n        text-align: right;\n    }\n</style>\n<table border=\"1\" class=\"dataframe\">\n  <thead>\n    <tr style=\"text-align: right;\">\n      <th></th>\n      <th>conf</th>\n      <th>team</th>\n    </tr>\n  </thead>\n  <tbody>\n    <tr>\n      <th>0</th>\n      <td>America East</td>\n      <td>Vermont</td>\n    </tr>\n    <tr>\n      <th>1</th>\n      <td>America East</td>\n      <td>Stony Brook</td>\n    </tr>\n    <tr>\n      <th>2</th>\n      <td>America East</td>\n      <td>UMBC</td>\n    </tr>\n    <tr>\n      <th>3</th>\n      <td>America East</td>\n      <td>Hartford</td>\n    </tr>\n    <tr>\n      <th>4</th>\n      <td>America East</td>\n      <td>Albany</td>\n    </tr>\n    <tr>\n      <th>...</th>\n      <td>...</td>\n      <td>...</td>\n    </tr>\n    <tr>\n      <th>348</th>\n      <td>Western Athletic</td>\n      <td>California Baptist</td>\n    </tr>\n    <tr>\n      <th>349</th>\n      <td>Western Athletic</td>\n      <td>Cal State Bakersfield</td>\n    </tr>\n    <tr>\n      <th>350</th>\n      <td>Western Athletic</td>\n      <td>Seattle</td>\n    </tr>\n    <tr>\n      <th>351</th>\n      <td>Western Athletic</td>\n      <td>UMKC</td>\n    </tr>\n    <tr>\n      <th>352</th>\n      <td>Western Athletic</td>\n      <td>Chicago State</td>\n    </tr>\n  </tbody>\n</table>\n<p>353 rows × 2 columns</p>\n</div>"
     },
     "execution_count": 4,
     "metadata": {},
     "output_type": "execute_result"
    }
   ],
   "source": [
    "conf_data"
   ],
   "metadata": {
    "collapsed": false,
    "pycharm": {
     "name": "#%%\n"
    }
   }
  },
  {
   "cell_type": "code",
   "execution_count": 43,
   "outputs": [],
   "source": [
    "temp = games_data.merge(conf_data,left_on='team2',right_on='team',suffixes=('',\"2\")).iloc[:,0:-1]\n",
    "temp = temp.merge(conf_data,left_on='team1',right_on='team',suffixes=('',\"1\"),).iloc[:,0:-1]"
   ],
   "metadata": {
    "collapsed": false,
    "pycharm": {
     "name": "#%%\n"
    }
   }
  },
  {
   "cell_type": "code",
   "execution_count": 45,
   "outputs": [],
   "source": [
    "\n",
    "temp['conf2']=temp['conf']\n",
    "temp = temp.drop('conf', axis=1)"
   ],
   "metadata": {
    "collapsed": false,
    "pycharm": {
     "name": "#%%\n"
    }
   }
  },
  {
   "cell_type": "code",
   "execution_count": 46,
   "outputs": [
    {
     "data": {
      "text/plain": "       game_date           team1  score1           team2  score2  \\\n0     2015-11-15          Purdue     107         Vermont      79   \n1     2017-11-18          Purdue     106       Fairfield      64   \n2     2018-11-06          Purdue      90       Fairfield      57   \n3     2018-11-23          Purdue      84   Robert Morris      46   \n4     2015-11-28          Purdue      77          Lehigh      55   \n...          ...             ...     ...             ...     ...   \n9295  2019-01-08   Indiana State      57  Missouri State      72   \n9296  2019-03-02  Delaware State      58    Morgan State      76   \n9297  2019-01-07  Delaware State      60    Coppin State      64   \n9298  2019-03-04  Delaware State      66   Norfolk State      74   \n9299  2019-02-02  Delaware State      73  Savannah State      76   \n\n                conf1                    conf2  \n0             Big Ten             America East  \n1             Big Ten  Metro Atlantic Athletic  \n2             Big Ten  Metro Atlantic Athletic  \n3             Big Ten                Northeast  \n4             Big Ten           Patriot League  \n...               ...                      ...  \n9295  Missouri Valley          Missouri Valley  \n9296      Mid-Eastern              Mid-Eastern  \n9297      Mid-Eastern              Mid-Eastern  \n9298      Mid-Eastern              Mid-Eastern  \n9299      Mid-Eastern              Mid-Eastern  \n\n[9300 rows x 7 columns]",
      "text/html": "<div>\n<style scoped>\n    .dataframe tbody tr th:only-of-type {\n        vertical-align: middle;\n    }\n\n    .dataframe tbody tr th {\n        vertical-align: top;\n    }\n\n    .dataframe thead th {\n        text-align: right;\n    }\n</style>\n<table border=\"1\" class=\"dataframe\">\n  <thead>\n    <tr style=\"text-align: right;\">\n      <th></th>\n      <th>game_date</th>\n      <th>team1</th>\n      <th>score1</th>\n      <th>team2</th>\n      <th>score2</th>\n      <th>conf1</th>\n      <th>conf2</th>\n    </tr>\n  </thead>\n  <tbody>\n    <tr>\n      <th>0</th>\n      <td>2015-11-15</td>\n      <td>Purdue</td>\n      <td>107</td>\n      <td>Vermont</td>\n      <td>79</td>\n      <td>Big Ten</td>\n      <td>America East</td>\n    </tr>\n    <tr>\n      <th>1</th>\n      <td>2017-11-18</td>\n      <td>Purdue</td>\n      <td>106</td>\n      <td>Fairfield</td>\n      <td>64</td>\n      <td>Big Ten</td>\n      <td>Metro Atlantic Athletic</td>\n    </tr>\n    <tr>\n      <th>2</th>\n      <td>2018-11-06</td>\n      <td>Purdue</td>\n      <td>90</td>\n      <td>Fairfield</td>\n      <td>57</td>\n      <td>Big Ten</td>\n      <td>Metro Atlantic Athletic</td>\n    </tr>\n    <tr>\n      <th>3</th>\n      <td>2018-11-23</td>\n      <td>Purdue</td>\n      <td>84</td>\n      <td>Robert Morris</td>\n      <td>46</td>\n      <td>Big Ten</td>\n      <td>Northeast</td>\n    </tr>\n    <tr>\n      <th>4</th>\n      <td>2015-11-28</td>\n      <td>Purdue</td>\n      <td>77</td>\n      <td>Lehigh</td>\n      <td>55</td>\n      <td>Big Ten</td>\n      <td>Patriot League</td>\n    </tr>\n    <tr>\n      <th>...</th>\n      <td>...</td>\n      <td>...</td>\n      <td>...</td>\n      <td>...</td>\n      <td>...</td>\n      <td>...</td>\n      <td>...</td>\n    </tr>\n    <tr>\n      <th>9295</th>\n      <td>2019-01-08</td>\n      <td>Indiana State</td>\n      <td>57</td>\n      <td>Missouri State</td>\n      <td>72</td>\n      <td>Missouri Valley</td>\n      <td>Missouri Valley</td>\n    </tr>\n    <tr>\n      <th>9296</th>\n      <td>2019-03-02</td>\n      <td>Delaware State</td>\n      <td>58</td>\n      <td>Morgan State</td>\n      <td>76</td>\n      <td>Mid-Eastern</td>\n      <td>Mid-Eastern</td>\n    </tr>\n    <tr>\n      <th>9297</th>\n      <td>2019-01-07</td>\n      <td>Delaware State</td>\n      <td>60</td>\n      <td>Coppin State</td>\n      <td>64</td>\n      <td>Mid-Eastern</td>\n      <td>Mid-Eastern</td>\n    </tr>\n    <tr>\n      <th>9298</th>\n      <td>2019-03-04</td>\n      <td>Delaware State</td>\n      <td>66</td>\n      <td>Norfolk State</td>\n      <td>74</td>\n      <td>Mid-Eastern</td>\n      <td>Mid-Eastern</td>\n    </tr>\n    <tr>\n      <th>9299</th>\n      <td>2019-02-02</td>\n      <td>Delaware State</td>\n      <td>73</td>\n      <td>Savannah State</td>\n      <td>76</td>\n      <td>Mid-Eastern</td>\n      <td>Mid-Eastern</td>\n    </tr>\n  </tbody>\n</table>\n<p>9300 rows × 7 columns</p>\n</div>"
     },
     "execution_count": 46,
     "metadata": {},
     "output_type": "execute_result"
    }
   ],
   "source": [
    "temp"
   ],
   "metadata": {
    "collapsed": false,
    "pycharm": {
     "name": "#%%\n"
    }
   }
  },
  {
   "cell_type": "code",
   "execution_count": null,
   "outputs": [],
   "source": [],
   "metadata": {
    "collapsed": false,
    "pycharm": {
     "name": "#%%\n"
    }
   }
  }
 ],
 "metadata": {
  "kernelspec": {
   "display_name": "Python 3",
   "language": "python",
   "name": "python3"
  },
  "language_info": {
   "codemirror_mode": {
    "name": "ipython",
    "version": 3
   },
   "file_extension": ".py",
   "mimetype": "text/x-python",
   "name": "python",
   "nbconvert_exporter": "python",
   "pygments_lexer": "ipython3",
   "version": "3.7.3"
  }
 },
 "nbformat": 4,
 "nbformat_minor": 1
}